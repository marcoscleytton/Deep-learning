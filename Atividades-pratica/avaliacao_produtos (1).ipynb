{
  "nbformat": 4,
  "nbformat_minor": 0,
  "metadata": {
    "colab": {
      "provenance": []
    },
    "kernelspec": {
      "name": "python3",
      "display_name": "Python 3"
    },
    "language_info": {
      "name": "python"
    }
  },
  "cells": [
    {
      "cell_type": "code",
      "source": [
        "## Avaliação de produtos de uma loja de roupas para publico feminino!! ##"
      ],
      "metadata": {
        "id": "XKKyX9B1m5u6"
      },
      "execution_count": null,
      "outputs": []
    },
    {
      "cell_type": "markdown",
      "source": [],
      "metadata": {
        "id": "SHlefmNam3XS"
      }
    },
    {
      "cell_type": "code",
      "execution_count": null,
      "metadata": {
        "id": "-TGcad78wNC9"
      },
      "outputs": [],
      "source": [
        "!pip install textblob\n",
        "!pip install datasets"
      ]
    },
    {
      "cell_type": "code",
      "source": [
        "from textblob import TextBlob\n",
        "from datasets import load_dataset"
      ],
      "metadata": {
        "id": "rvaPWnEDniDJ"
      },
      "execution_count": null,
      "outputs": []
    },
    {
      "cell_type": "code",
      "source": [
        "dataset = load_dataset(\"Censius-AI/Ecommerce-Women-Clothing-Reviews\")"
      ],
      "metadata": {
        "id": "z_25BbeVnrsh"
      },
      "execution_count": null,
      "outputs": []
    },
    {
      "cell_type": "code",
      "source": [
        "dataset"
      ],
      "metadata": {
        "id": "OdyLtWhrn-dm"
      },
      "execution_count": null,
      "outputs": []
    },
    {
      "cell_type": "code",
      "source": [
        "avaliacoes = dataset['train'] ['Review Text']"
      ],
      "metadata": {
        "id": "nfCe4TB9oAYq"
      },
      "execution_count": null,
      "outputs": []
    },
    {
      "cell_type": "code",
      "source": [
        "comentarios = avaliacoes\n",
        "comentarios [0]"
      ],
      "metadata": {
        "id": "WYC6WiJ3oEWr"
      },
      "execution_count": null,
      "outputs": []
    },
    {
      "cell_type": "markdown",
      "source": [
        "avaliacao dos consumidores ⭐"
      ],
      "metadata": {
        "id": "h7bxYzltr94n"
      }
    },
    {
      "cell_type": "code",
      "source": [
        "estrelas = dataset['train'] ['Rating']"
      ],
      "metadata": {
        "id": "qWuqztaxoI7h"
      },
      "execution_count": null,
      "outputs": []
    },
    {
      "cell_type": "code",
      "source": [
        "estrelas[0]"
      ],
      "metadata": {
        "id": "LKEUqc8UoNsd"
      },
      "execution_count": null,
      "outputs": []
    },
    {
      "cell_type": "markdown",
      "source": [
        "Vamos ver o total de avaliações"
      ],
      "metadata": {
        "id": "Glci1gv-rmsZ"
      }
    },
    {
      "cell_type": "code",
      "source": [
        "len(avaliacoes)"
      ],
      "metadata": {
        "id": "k9doWLLOqtCM"
      },
      "execution_count": null,
      "outputs": []
    },
    {
      "cell_type": "markdown",
      "source": [
        "tom emocional."
      ],
      "metadata": {
        "id": "AirvQ00ttZth"
      }
    },
    {
      "cell_type": "code",
      "source": [
        "TextBlob(avaliacoes[0]).sentiment"
      ],
      "metadata": {
        "id": "_pSOaKdMqxHd"
      },
      "execution_count": null,
      "outputs": []
    },
    {
      "cell_type": "code",
      "source": [
        "for i, avaliacao in enumerate(avaliacoes):\n",
        "  if avaliacao:\n",
        "    polaridade = TextBlob(avaliacao).sentiment.polarity\n",
        "    print(estrelas[i], polaridade)"
      ],
      "metadata": {
        "collapsed": true,
        "id": "-BI72iKqq7NV"
      },
      "execution_count": null,
      "outputs": []
    },
    {
      "cell_type": "code",
      "source": [
        "sentimentos = {'positivo': [5, 4], 'negativo': [1 , 2], 'neutro': [3]}\n",
        "analises_entranhas = []\n",
        "for i, avaliacao in enumerate(avaliacoes):\n",
        "  if avaliacao:\n",
        "    polaridade = TextBlob(avaliacao).sentiment.polarity\n",
        "    if polaridade > 0.2:\n",
        "      sentimento = 'positivo'\n",
        "    elif -0.2 <= polaridade <= 0.2:\n",
        "      sentimento = 'neutro'\n",
        "    elif polaridade < -0.2:\n",
        "      sentimento = 'negativo'\n",
        "    avaliacao_estrelas = estrelas[i]\n",
        "    if avaliacao_estrelas not in sentimentos[sentimento]:\n",
        "     analises_entranhas.append((estrelas[i], polaridade))"
      ],
      "metadata": {
        "id": "v3SFLOWlvRfa"
      },
      "execution_count": null,
      "outputs": []
    },
    {
      "cell_type": "code",
      "source": [
        "print(analises_entranhas)"
      ],
      "metadata": {
        "id": "0yma7PSRzc00"
      },
      "execution_count": null,
      "outputs": []
    },
    {
      "cell_type": "code",
      "source": [
        "len(analises_entranhas)"
      ],
      "metadata": {
        "id": "gisCaAd4zhqW"
      },
      "execution_count": null,
      "outputs": []
    },
    {
      "cell_type": "code",
      "source": [
        "len(analises_entranhas) / len(avaliacoes)"
      ],
      "metadata": {
        "id": "xMai8ebMzlvy"
      },
      "execution_count": null,
      "outputs": []
    },
    {
      "cell_type": "markdown",
      "source": [
        "38 % das minhas avaliações são analises estranhas ou seja existe alguma incompatibilidade entre as estrelas atribuida aos usuarios e o sentimento [polaridade] do atribuida pelo textblob"
      ],
      "metadata": {
        "id": "0PqbQU5o0hDU"
      }
    },
    {
      "cell_type": "code",
      "source": [
        "avaliacoes = [\n",
        "    {\"texto\": \"O produto é horrível\", \"estrelas\": 5},\n",
        "    {\"texto\": \"Amei demais!\", \"estrelas\": 1},\n",
        "    # ... mais avaliações\n",
        "]\n",
        "\n",
        "incompativeis = 0\n",
        "\n",
        "for av in avaliacoes:\n",
        "    polaridade = TextBlob(av[\"texto\"]).sentiment.polarity\n",
        "    estrelas = av[\"estrelas\"]\n",
        "\n",
        "    # Regra simples: polaridade positiva com poucas estrelas ou negativa com muitas\n",
        "    if (polaridade > 0.3 and estrelas <= 2) or (polaridade < -0.3 and estrelas >= 4):\n",
        "        incompativeis += 1\n",
        "\n",
        "porcentagem = (incompativeis / len(avaliacoes)) * 100\n",
        "print(f\"{porcentagem:.2f}% das avaliações são incompatíveis\")\n",
        "\n",
        "avaliacoes = [\n",
        "    \"Horrível, nunca mais compro aqui\",  # polaridade negativa\n",
        "    \"Excelente produto, recomendo!\",     # polaridade positiva\n",
        "    \"Mais ou menos, nada demais\",        # polaridade neutra\n",
        "    \"Produto péssimo, mas chegou rápido\",# polaridade mista\n",
        "]\n",
        "\n",
        "estrelas = [5, 1, 3, 4]  # propositalmente incompatíveis"
      ],
      "metadata": {
        "id": "fdP95Zyc1oex"
      },
      "execution_count": null,
      "outputs": []
    },
    {
      "cell_type": "code",
      "source": [],
      "metadata": {
        "id": "XX6QB72n2kkL"
      },
      "execution_count": null,
      "outputs": []
    }
  ]
}